{
 "cells": [
  {
   "cell_type": "markdown",
   "metadata": {},
   "source": [
    "# Canonym Demo\n",
    "**Anonymization package for Canadian data**"
   ]
  },
  {
   "cell_type": "code",
   "execution_count": null,
   "metadata": {
    "execution": {
     "iopub.execute_input": "2023-02-03T19:21:44.447792Z",
     "iopub.status.busy": "2023-02-03T19:21:44.447446Z",
     "iopub.status.idle": "2023-02-03T19:21:46.972506Z",
     "shell.execute_reply": "2023-02-03T19:21:46.971708Z",
     "shell.execute_reply.started": "2023-02-03T19:21:44.447723Z"
    },
    "tags": []
   },
   "outputs": [],
   "source": [
    "from canonym import Canonym\n",
    "import pandas as pd\n",
    "pd.set_option('display.max_colwidth', None)"
   ]
  },
  {
   "cell_type": "markdown",
   "metadata": {},
   "source": [
    "Creating a anonymizer object : "
   ]
  },
  {
   "cell_type": "code",
   "execution_count": null,
   "metadata": {
    "execution": {
     "iopub.execute_input": "2023-02-03T19:32:04.628990Z",
     "iopub.status.busy": "2023-02-03T19:32:04.628072Z",
     "iopub.status.idle": "2023-02-03T19:32:11.433938Z",
     "shell.execute_reply": "2023-02-03T19:32:11.433207Z",
     "shell.execute_reply.started": "2023-02-03T19:32:04.628955Z"
    },
    "tags": []
   },
   "outputs": [],
   "source": [
    "anonymizer = Canonym()"
   ]
  },
  {
   "cell_type": "markdown",
   "metadata": {},
   "source": [
    "-------\n",
    "## Basic usage \n",
    "#### 1) Text\n"
   ]
  },
  {
   "cell_type": "code",
   "execution_count": null,
   "metadata": {
    "execution": {
     "iopub.execute_input": "2023-02-03T19:21:56.875077Z",
     "iopub.status.busy": "2023-02-03T19:21:56.874592Z",
     "iopub.status.idle": "2023-02-03T19:21:57.381441Z",
     "shell.execute_reply": "2023-02-03T19:21:57.380747Z",
     "shell.execute_reply.started": "2023-02-03T19:21:56.875051Z"
    },
    "tags": []
   },
   "outputs": [],
   "source": [
    "anonymizer.anonymize(\"I heard from Bob that Statistics Canada is in the building over there at 150 Tunney's Pasture, Ottawa\")"
   ]
  },
  {
   "cell_type": "markdown",
   "metadata": {},
   "source": [
    "Anonymizing french text"
   ]
  },
  {
   "cell_type": "code",
   "execution_count": null,
   "metadata": {
    "execution": {
     "iopub.execute_input": "2023-02-03T19:21:57.382941Z",
     "iopub.status.busy": "2023-02-03T19:21:57.382400Z",
     "iopub.status.idle": "2023-02-03T19:21:57.452743Z",
     "shell.execute_reply": "2023-02-03T19:21:57.451989Z",
     "shell.execute_reply.started": "2023-02-03T19:21:57.382918Z"
    },
    "tags": []
   },
   "outputs": [],
   "source": [
    "anonymizer.anonymize(\" Bob m'a dit que Statistique Canada se trouve dans l'immeuble situé au 150 Tunney's Pasture, à Ottawa\", language='fr')"
   ]
  },
  {
   "cell_type": "markdown",
   "metadata": {},
   "source": [
    "#### 2) lists"
   ]
  },
  {
   "cell_type": "code",
   "execution_count": null,
   "metadata": {
    "execution": {
     "iopub.execute_input": "2023-02-03T19:21:57.454079Z",
     "iopub.status.busy": "2023-02-03T19:21:57.453708Z",
     "iopub.status.idle": "2023-02-03T19:21:57.457302Z",
     "shell.execute_reply": "2023-02-03T19:21:57.456730Z",
     "shell.execute_reply.started": "2023-02-03T19:21:57.454056Z"
    }
   },
   "outputs": [],
   "source": [
    "list_of_strings = [\"I heard from Bob that Statistics Canada is in the building over there at 150 Tunney's Pasture, Ottawa\",\n",
    "                   \" Bob m'a dit que Statistique Canada se trouve dans l'immeuble situé au 150 Tunney's Pasture, à Ottawa\"]"
   ]
  },
  {
   "cell_type": "code",
   "execution_count": null,
   "metadata": {
    "execution": {
     "iopub.execute_input": "2023-02-03T19:21:57.458737Z",
     "iopub.status.busy": "2023-02-03T19:21:57.458214Z",
     "iopub.status.idle": "2023-02-03T19:21:57.634134Z",
     "shell.execute_reply": "2023-02-03T19:21:57.633425Z",
     "shell.execute_reply.started": "2023-02-03T19:21:57.458715Z"
    },
    "tags": []
   },
   "outputs": [],
   "source": [
    "anonymizer.anonymize(list_of_strings)"
   ]
  },
  {
   "cell_type": "markdown",
   "metadata": {},
   "source": [
    "By default the language engine uses is English, specify language='auto'or language=None to automatically detect the language"
   ]
  },
  {
   "cell_type": "code",
   "execution_count": null,
   "metadata": {
    "execution": {
     "iopub.execute_input": "2023-02-03T19:21:57.636861Z",
     "iopub.status.busy": "2023-02-03T19:21:57.636402Z",
     "iopub.status.idle": "2023-02-03T19:21:58.183815Z",
     "shell.execute_reply": "2023-02-03T19:21:58.183156Z",
     "shell.execute_reply.started": "2023-02-03T19:21:57.636836Z"
    },
    "tags": []
   },
   "outputs": [],
   "source": [
    "anonymizer.anonymize(list_of_strings, language='auto')"
   ]
  },
  {
   "cell_type": "markdown",
   "metadata": {},
   "source": [
    "#### 3) Series and DataFrames"
   ]
  },
  {
   "cell_type": "code",
   "execution_count": null,
   "metadata": {
    "execution": {
     "iopub.execute_input": "2023-02-03T19:21:58.185148Z",
     "iopub.status.busy": "2023-02-03T19:21:58.184791Z",
     "iopub.status.idle": "2023-02-03T19:21:58.190465Z",
     "shell.execute_reply": "2023-02-03T19:21:58.189855Z",
     "shell.execute_reply.started": "2023-02-03T19:21:58.185124Z"
    },
    "tags": []
   },
   "outputs": [],
   "source": [
    "text_series = pd.Series(data=['he is Bob, living at 2345 main street, toronto, H3g 4r2, ON,  Canada', \"That's Mary, she's living in the USA\"], name= 'my-series')\n",
    "text_series_fr = pd.Series(data=[\"C'est Bob, qui vit au 2345 Main street, toronto, H3g 4r2, ON, Canada.\", \"C'est Marie, elle vit aux Etats-Unis.\"], name= 'my-series-fr')\n",
    "text_series_mix = pd.Series(data=[\"C'est Pierre, qui vit au 1234 Victoria av., Ottawa, H1g 3q2, ON, Canada.\", \"Please give Peter my new number 433-533-2222\"], name= 'my-series-mix')\n",
    "text_df = pd.DataFrame({text_series.name:text_series,text_series_fr.name:text_series_fr, text_series_mix.name:text_series_mix})"
   ]
  },
  {
   "cell_type": "code",
   "execution_count": null,
   "metadata": {
    "execution": {
     "iopub.execute_input": "2023-02-03T19:21:58.191781Z",
     "iopub.status.busy": "2023-02-03T19:21:58.191290Z",
     "iopub.status.idle": "2023-02-03T19:21:58.211758Z",
     "shell.execute_reply": "2023-02-03T19:21:58.211135Z",
     "shell.execute_reply.started": "2023-02-03T19:21:58.191760Z"
    },
    "tags": []
   },
   "outputs": [],
   "source": [
    "text_df"
   ]
  },
  {
   "cell_type": "code",
   "execution_count": null,
   "metadata": {
    "execution": {
     "iopub.execute_input": "2023-02-03T19:21:58.212922Z",
     "iopub.status.busy": "2023-02-03T19:21:58.212697Z",
     "iopub.status.idle": "2023-02-03T19:21:58.389470Z",
     "shell.execute_reply": "2023-02-03T19:21:58.388794Z",
     "shell.execute_reply.started": "2023-02-03T19:21:58.212903Z"
    },
    "tags": []
   },
   "outputs": [],
   "source": [
    "anonymizer.anonymize(text_series)"
   ]
  },
  {
   "cell_type": "code",
   "execution_count": null,
   "metadata": {
    "execution": {
     "iopub.execute_input": "2023-02-03T19:21:58.391089Z",
     "iopub.status.busy": "2023-02-03T19:21:58.390413Z",
     "iopub.status.idle": "2023-02-03T19:21:58.535399Z",
     "shell.execute_reply": "2023-02-03T19:21:58.534738Z",
     "shell.execute_reply.started": "2023-02-03T19:21:58.391058Z"
    },
    "tags": []
   },
   "outputs": [],
   "source": [
    "anonymizer.anonymize(text_series_fr, language='fr')"
   ]
  },
  {
   "cell_type": "markdown",
   "metadata": {},
   "source": [
    "Anonymizing a Pandas DataFrame"
   ]
  },
  {
   "cell_type": "code",
   "execution_count": null,
   "metadata": {
    "execution": {
     "iopub.execute_input": "2023-02-03T19:21:58.536928Z",
     "iopub.status.busy": "2023-02-03T19:21:58.536388Z",
     "iopub.status.idle": "2023-02-03T19:21:59.026149Z",
     "shell.execute_reply": "2023-02-03T19:21:59.025457Z",
     "shell.execute_reply.started": "2023-02-03T19:21:58.536903Z"
    },
    "tags": []
   },
   "outputs": [],
   "source": [
    "anonymizer.anonymize(text_df)"
   ]
  },
  {
   "cell_type": "markdown",
   "metadata": {},
   "source": [
    "By default using the english engine, the user can either use the auto option or specify the language for each column "
   ]
  },
  {
   "cell_type": "code",
   "execution_count": null,
   "metadata": {
    "execution": {
     "iopub.execute_input": "2023-02-03T19:21:59.027620Z",
     "iopub.status.busy": "2023-02-03T19:21:59.027096Z",
     "iopub.status.idle": "2023-02-03T19:21:59.740910Z",
     "shell.execute_reply": "2023-02-03T19:21:59.740174Z",
     "shell.execute_reply.started": "2023-02-03T19:21:59.027596Z"
    },
    "tags": []
   },
   "outputs": [],
   "source": [
    "anonymizer.anonymize(text_df, language=None)"
   ]
  },
  {
   "cell_type": "code",
   "execution_count": null,
   "metadata": {
    "execution": {
     "iopub.execute_input": "2023-02-03T19:21:59.742229Z",
     "iopub.status.busy": "2023-02-03T19:21:59.741871Z",
     "iopub.status.idle": "2023-02-03T19:22:00.153385Z",
     "shell.execute_reply": "2023-02-03T19:22:00.152649Z",
     "shell.execute_reply.started": "2023-02-03T19:21:59.742206Z"
    },
    "tags": []
   },
   "outputs": [],
   "source": [
    "anonymizer.anonymize(text_df, language={'my-series':'en', 'my-series-fr':'fr', 'my-series-mix': 'auto'})"
   ]
  },
  {
   "cell_type": "markdown",
   "metadata": {},
   "source": [
    "----------\n",
    "## Handling long text "
   ]
  },
  {
   "cell_type": "markdown",
   "metadata": {},
   "source": [
    "Canonym can handle text longer than the maximum input size for the transofrmer model used, it will automatically split into paragraphs processed and put back the text together"
   ]
  },
  {
   "cell_type": "code",
   "execution_count": null,
   "metadata": {
    "execution": {
     "iopub.execute_input": "2023-02-03T19:22:00.154935Z",
     "iopub.status.busy": "2023-02-03T19:22:00.154664Z",
     "iopub.status.idle": "2023-02-03T19:22:00.162100Z",
     "shell.execute_reply": "2023-02-03T19:22:00.161473Z",
     "shell.execute_reply.started": "2023-02-03T19:22:00.154912Z"
    },
    "tags": []
   },
   "outputs": [],
   "source": [
    "long_text_en = '''MONTREAL - An extreme cold snap that is forecast to bring a risk of frostbite and hypothermia with temperatures of -27 C Friday night has shelters in the Montreal area fearing for the vulnerable homeless population.\n",
    "\n",
    "Environment Canada says the effects of the \"vigorous\" cold front that will continue into Saturday with a wind chill of around -40 C will put people at risk.\n",
    "\n",
    "The City of Montreal this week opened two temporary emergency warming centres for the homeless population, each of which can accommodate up to 50 people between 8 p.m. and 9 a.m. The centres are to close on Sunday.\n",
    "\n",
    "\n",
    "City health officials warned that frostbite can cause permanent tissue damage necessitating amputation of fingers and toes, while hypothermia can cause death.\n",
    "\n",
    "Marie-Noëlle L'Espérance, the director of prevention and intervention at Dans La Rue youth shelter in Montreal, said her shelter tries to accommodate as many people as possible in times of extreme weather.\n",
    "\n",
    "To encourage the homeless population to seek refuge, Dans La Rue social workers will be out in the streets telling them about the dangers of extreme cold. The city has also said police, paramedics and social workers will be encouraging people without homes to go to shelters.\n",
    "\n",
    "Serge Lareault, Montreal's commissioner for the homeless population, said there are more than 1,600 beds in Montreal shelters, but L'Espérance fears that won't be enough to meet the need.\n",
    "\n",
    "\"Those spaces are already occupied,\" she said. \"The 100 spaces that they just added are welcomed, but we are lacking spaces.\"\n",
    "\n",
    "Quebec is not alone in feeling the effect of the bitter cold. Ontario is expecting a wind chill of -30 C. Environment Canada has also issued extreme cold warnings for all of New Brunswick, where the wind will make it feel as cold as -50 C across a wide swath of the northern counties starting Friday afternoon and into Saturday.\n",
    "\n",
    "Bitterly cold temperatures are also in the forecast for Nova Scotia and P.E.I., where the wind will make it feel as cold as -40 C.\n",
    "\n",
    "\n",
    "Nova Scotia Community Services Minister Karla MacFarlane promised Thursday that anyone in need of shelter will be provided with a bed, even if the government needs to rent hotel rooms.\n",
    "\n",
    "In Montreal, the Welcome Hall Mission shelter is open 24 hours and has a capacity of 165 people, but CEO Sam Watts said they have a policy of not turning away anyone in need.\n",
    "\n",
    "\"When it's really cold we have to be extra vigilant that we're working very closely with the entire ecosystem to make sure that nobody has to stay outside.\"\n",
    "\n",
    "He said the extreme cold is particularly hard on people living on the streets, who often have health conditions that make them vulnerable.\n",
    "\n",
    "\"We take people in, and we encourage people to stay in,\" he said. \"At the same time, we become extra aware of the medical conditions that people have.\n",
    "\n",
    "\"Because as I think you're aware, anybody with a number of comorbidities in addition to experiencing homelessness is extra vulnerable to extended periods of time outside. So that's a concern for us, and it just means that we work extra hard in times like this.\"\n",
    "\n",
    "This report by The Canadian Press was first published Feb. 3, 2023.\n",
    "\n",
    "Most of Ontario is under an extreme cold warning as a blast of arctic air delivers biting wind chills.\n",
    "\n",
    "Environment Canada is warning of wind chill values between -30 C and -40 C across much of southern and eastern Ontario, and up to -50 C in parts of northern Ontario.\n",
    "\n",
    "The federal weather agency says the cold could cause frostbite to develop on exposed skin within minutes.\n",
    "\n",
    "\n",
    "Meteorologist Steven Flisfeder says the extreme cold conditions across the province are expected to continue on Saturday, with snow squall warnings issued in parts of southwest Ontario as well.\n",
    "\n",
    "He says temperatures are expected to be above seasonal again early next week.\n",
    "\n",
    "\n",
    "Environment Canada says wind chills could approach -30 C in the Greater Toronto Area today, while in Ottawa it could feel closer to -40 C.\n",
    "\n",
    "In Thunder Bay it will feel more like -45 C and the regions around Hudson Bay are forecast to feel wind chills around -50 C.\n",
    "\n",
    "The extreme cold snap has led Environment Canada to issue similar warnings in Manitoba, through to Quebec and the Maritimes.\n",
    "\n",
    "This report by The Canadian Press was first published Feb. 3, 2023.\n",
    "\n",
    "HALIFAX - The three Maritime provinces are bracing for dangerously cold temperatures on Friday and into the weekend as an arctic air mass makes its way to the region.\n",
    "\n",
    "Environment Canada had issued extreme cold warnings for all of New Brunswick, where the wind will make it feel as cold as -50 C across a wide swath of the northern counties, starting Friday afternoon and into Saturday morning.\n",
    "\n",
    "\"Watch for cold-related symptoms: shortness of breath, chest pain, muscle pain and weakness, numbness and colour change in fingers and toes,\" Environment Canada said in a statement issued Thursday afternoon.\n",
    "\n",
    "\n",
    "\"Cover up. Frostbite can develop within minutes on exposed skin, especially with wind chill.\"\n",
    "\n",
    "The New Brunswick government issued a statement advising residents to wear several layers of clothing when going outside and to drink warm fluids while avoiding caffeine and alcohol, which can cause rapid heat loss.\n",
    "\n",
    "As well, bitterly cold temperatures are in the forecast for Nova Scotia and P.E.I., where the wind will make it feel as cold as -40 C — easily the coldest temperatures of the season so far. And it will be even colder in the Cape Breton Highlands and along Nova Scotia's north shore.\n",
    "\n",
    "Nova Scotia Community Services Minister Karla MacFarlane promised that anyone in need of shelter will be provided with a bed, even if the government needs to rent hotel rooms.\n",
    "\n",
    "\"We have ramped up efforts, knowing what Mother Nature is going to bring us,\" MacFarlane said after a cabinet meeting in Halifax. \"If there is anyone finding themselves in a precarious situation, there will be a bed for them — a safe place to stay.\"\n",
    "\n",
    "Emergency shelters across the province will open Friday.\n",
    "\n",
    "\n",
    "\"We also have search and rescue out there ... looking in areas, touching base with service providers within their communities that are normally aware of individuals who may find themselves homeless,\" MacFarlane said.\n",
    "\n",
    "Meanwhile, the P.E.I. Emergency Measures Organization issued a statement Thursday urging residents to take precautions to reduce the risk of frostbite and windburn.\n",
    "\n",
    "The organization also issued a list of safety tips, including having a winter survival kit when travelling in a car and checking on family, friends and neighbours.\n",
    "\n",
    "In Newfoundland and Labrador, Environment Canada says snow, rain and strong winds will lash the province on Friday, with a mass of extremely cold air moving in Friday night and lingering until Sunday — though there was no indication how low temperatures will drop.\n",
    "\n",
    "The snow will start to fall over southwestern Newfoundland on Friday morning and spread across the rest of the island throughout the day, eventually mixing with rain over southern and eastern sections of the island.\n",
    "\n",
    "Flurries are expected to continue with strong winds on Saturday, and snow squalls likely along the south coast, where visibility may be reduced at times.\n",
    "\n",
    "\"Travel could become difficult,\" Environment Canada said in a statement. \"If you must travel, be prepared for delays and allow extra time to reach your destination.\"\n",
    "\n",
    "A winter storm warning has been issued for the Burgeo and Ramea areas along the island's south coast, and a snowfall warning is in effect for the southern tip of Labrador. Both areas can expect up to 25 centimetres of snow.\n",
    "\n",
    "This report by The Canadian Press was first published Feb. 2, 2023.\n",
    "\n",
    "—'''"
   ]
  },
  {
   "cell_type": "code",
   "execution_count": null,
   "metadata": {
    "execution": {
     "iopub.execute_input": "2023-02-03T19:22:00.163393Z",
     "iopub.status.busy": "2023-02-03T19:22:00.162928Z",
     "iopub.status.idle": "2023-02-03T19:22:01.187972Z",
     "shell.execute_reply": "2023-02-03T19:22:01.187255Z",
     "shell.execute_reply.started": "2023-02-03T19:22:00.163371Z"
    },
    "tags": []
   },
   "outputs": [],
   "source": [
    "anonymizer.anonymize(long_text_en)"
   ]
  },
  {
   "cell_type": "markdown",
   "metadata": {
    "execution": {
     "iopub.execute_input": "2023-02-03T19:09:15.130118Z",
     "iopub.status.busy": "2023-02-03T19:09:15.129192Z",
     "iopub.status.idle": "2023-02-03T19:09:15.134452Z",
     "shell.execute_reply": "2023-02-03T19:09:15.133639Z",
     "shell.execute_reply.started": "2023-02-03T19:09:15.130085Z"
    }
   },
   "source": [
    "-----------------\n",
    "## Strategies"
   ]
  },
  {
   "cell_type": "markdown",
   "metadata": {
    "execution": {
     "iopub.execute_input": "2023-02-03T19:10:01.920192Z",
     "iopub.status.busy": "2023-02-03T19:10:01.919459Z",
     "iopub.status.idle": "2023-02-03T19:10:01.925101Z",
     "shell.execute_reply": "2023-02-03T19:10:01.924288Z",
     "shell.execute_reply.started": "2023-02-03T19:10:01.920163Z"
    }
   },
   "source": [
    "Multiple strategies are avilable :\n",
    "\n",
    "    - replace_all_with_tag :  replaces all entities with their Entity Type\n",
    "    - redact_all : redacts all PI\n",
    "    - hash_all : Hashes the PI entities\n",
    "    - mask_all : Masks all DEFAULT  entities\n",
    "    - scramble_all : Scrambles (changes the order of letters) for all entities\n",
    "    -  mixed_per_entity_type : {hash : ALPHABET_ENTITIES, mask : SPECIAL_ENTITIES, randomize : NUMERIC_ENTITIES, redact : ALPHANUMERIC_ENTITIES}\n",
    "    - hash_one : {hash: [PERSON]}\n",
    "    - mask_some: {mask: [PERSON, FULL_ADDRESS], redact: [PHONE_NUMBER]}\n",
    "    - replace_custom: {replace: CUSTOM_ENTITIES}\n",
    "    - redact_custom: {redact : CUSTOM_ENTITIES}\n",
    "    - faker_custom: {faker : CUSTOM_ENTITIES}\n",
    "    - faker_all: {faker : DEFAULT_ENTITIES}\n",
    "    - replace_w_value_custom: {replace_val : CUSTOM_ENTITIES}"
   ]
  },
  {
   "cell_type": "code",
   "execution_count": null,
   "metadata": {
    "execution": {
     "iopub.execute_input": "2023-02-03T19:22:01.189677Z",
     "iopub.status.busy": "2023-02-03T19:22:01.189142Z",
     "iopub.status.idle": "2023-02-03T19:22:01.311776Z",
     "shell.execute_reply": "2023-02-03T19:22:01.311121Z",
     "shell.execute_reply.started": "2023-02-03T19:22:01.189651Z"
    },
    "tags": []
   },
   "outputs": [],
   "source": [
    "text= \"I heard from Bob that Statistics Canada is in the building over there at 123 Tunney's Road, Ottawa\"\n",
    "anonymizer.anonymize(text)\n",
    "anonymizer.anonymize(text, strategy='redact_all')"
   ]
  },
  {
   "cell_type": "code",
   "execution_count": null,
   "metadata": {
    "execution": {
     "iopub.execute_input": "2023-02-03T19:22:37.525329Z",
     "iopub.status.busy": "2023-02-03T19:22:37.524786Z",
     "iopub.status.idle": "2023-02-03T19:22:38.387801Z",
     "shell.execute_reply": "2023-02-03T19:22:38.386947Z",
     "shell.execute_reply.started": "2023-02-03T19:22:37.525295Z"
    },
    "tags": []
   },
   "outputs": [],
   "source": [
    "for item in anonymizer.tag_anonymizer.ALL_ANONYMIZER_STRATEGIES:\n",
    "    strategy_name = list(item.keys())[0]\n",
    "    print(f' {strategy_name=} : \\n {anonymizer.anonymize(text, strategy=strategy_name)} \\n ')\n"
   ]
  },
  {
   "cell_type": "markdown",
   "metadata": {},
   "source": [
    "### Creating a custom strategy, two options :\n",
    "\n",
    "- Modifying directly the config file \n",
    "- Adding a strategy manually \n",
    "    \n",
    "    Syntax : **{new_strategy_name: {available_action : list[ENTITY1, ENTITY2, ...]}}**\n"
   ]
  },
  {
   "cell_type": "code",
   "execution_count": null,
   "metadata": {
    "execution": {
     "iopub.execute_input": "2023-02-03T19:36:15.055972Z",
     "iopub.status.busy": "2023-02-03T19:36:15.054812Z",
     "iopub.status.idle": "2023-02-03T19:36:15.060728Z",
     "shell.execute_reply": "2023-02-03T19:36:15.059691Z",
     "shell.execute_reply.started": "2023-02-03T19:36:15.055920Z"
    },
    "tags": []
   },
   "outputs": [],
   "source": [
    "replace_person_with_tag_strategy = {'replace_person_with_tag': {'replace': ['PERSON']}}\n",
    "anonymizer.tag_anonymizer.ALL_ANONYMIZER_STRATEGIES.append(replace_person_with_tag_strategy)"
   ]
  },
  {
   "cell_type": "code",
   "execution_count": null,
   "metadata": {
    "execution": {
     "iopub.execute_input": "2023-02-03T19:36:17.855399Z",
     "iopub.status.busy": "2023-02-03T19:36:17.854261Z",
     "iopub.status.idle": "2023-02-03T19:36:17.921233Z",
     "shell.execute_reply": "2023-02-03T19:36:17.920480Z",
     "shell.execute_reply.started": "2023-02-03T19:36:17.855358Z"
    },
    "tags": []
   },
   "outputs": [],
   "source": [
    "anonymizer.anonymize(text, strategy='replace_person_with_tag')"
   ]
  },
  {
   "cell_type": "markdown",
   "metadata": {},
   "source": [
    "Loading a custom config file "
   ]
  },
  {
   "cell_type": "code",
   "execution_count": null,
   "metadata": {
    "execution": {
     "iopub.execute_input": "2023-02-03T19:42:32.865898Z",
     "iopub.status.busy": "2023-02-03T19:42:32.864880Z",
     "iopub.status.idle": "2023-02-03T19:42:32.877964Z",
     "shell.execute_reply": "2023-02-03T19:42:32.877240Z",
     "shell.execute_reply.started": "2023-02-03T19:42:32.865865Z"
    },
    "tags": []
   },
   "outputs": [],
   "source": [
    "anonymizer.tag_anonymizer.load_config(\"/home/jovyan/ap-cpu2-vol-1/anonymisation-project/Package/config/anonymizer_config_custom.yaml\")"
   ]
  },
  {
   "cell_type": "code",
   "execution_count": null,
   "metadata": {
    "execution": {
     "iopub.execute_input": "2023-02-03T19:42:52.919487Z",
     "iopub.status.busy": "2023-02-03T19:42:52.918536Z",
     "iopub.status.idle": "2023-02-03T19:42:52.990512Z",
     "shell.execute_reply": "2023-02-03T19:42:52.989825Z",
     "shell.execute_reply.started": "2023-02-03T19:42:52.919453Z"
    },
    "tags": []
   },
   "outputs": [],
   "source": [
    "anonymizer.anonymize(text, strategy='custom_scramble_person')"
   ]
  }
 ],
 "metadata": {
  "kernelspec": {
   "display_name": "Python [conda env:anonymisation-project-ap]",
   "language": "python",
   "name": "conda-env-anonymisation-project-ap-py"
  },
  "language_info": {
   "codemirror_mode": {
    "name": "ipython",
    "version": 3
   },
   "file_extension": ".py",
   "mimetype": "text/x-python",
   "name": "python",
   "nbconvert_exporter": "python",
   "pygments_lexer": "ipython3",
   "version": "3.10.6"
  }
 },
 "nbformat": 4,
 "nbformat_minor": 4
}
